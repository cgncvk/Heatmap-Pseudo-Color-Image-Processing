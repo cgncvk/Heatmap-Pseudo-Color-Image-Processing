{
 "cells": [
  {
   "cell_type": "code",
   "execution_count": 1,
   "id": "eda093d1",
   "metadata": {},
   "outputs": [],
   "source": [
    "import cv2"
   ]
  },
  {
   "cell_type": "code",
   "execution_count": 1,
   "id": "60c8394e",
   "metadata": {},
   "outputs": [],
   "source": [
    "import cv2\n",
    "# COLORMAP_AUTUMN = 0,\n",
    "# COLORMAP_BONE = 1,\n",
    "# COLORMAP_JET = 2,\n",
    "# COLORMAP_WINTER = 3,\n",
    "# COLORMAP_RAINBOW = 4,\n",
    "# COLORMAP_OCEAN = 5,\n",
    "# COLORMAP_SUMMER = 6,\n",
    "# COLORMAP_SPRING = 7,\n",
    "# COLORMAP_COOL = 8,\n",
    "# COLORMAP_HSV = 9,\n",
    "# COLORMAP_PINK = 10,\n",
    "# COLORMAP_HOT = 11\n",
    " \n",
    "img = cv2.imread(\"552090.jpg\")\n",
    "for i in range(0, 13):\n",
    "    im_color = cv2.applyColorMap(img, i)\n",
    "    cv2.imwrite(\"{}.jpg\".format(i), im_color)\n"
   ]
  },
  {
   "cell_type": "code",
   "execution_count": 7,
   "id": "12f0facf",
   "metadata": {},
   "outputs": [],
   "source": [
    "cv2.imshow(\"gg\", img)\n",
    "cv2.waitKey(0)\n",
    "cv2.destroyAllWindows()"
   ]
  },
  {
   "cell_type": "code",
   "execution_count": null,
   "id": "80bc3bea",
   "metadata": {},
   "outputs": [],
   "source": []
  }
 ],
 "metadata": {
  "kernelspec": {
   "display_name": "Python 3 (ipykernel)",
   "language": "python",
   "name": "python3"
  },
  "language_info": {
   "codemirror_mode": {
    "name": "ipython",
    "version": 3
   },
   "file_extension": ".py",
   "mimetype": "text/x-python",
   "name": "python",
   "nbconvert_exporter": "python",
   "pygments_lexer": "ipython3",
   "version": "3.8.12"
  }
 },
 "nbformat": 4,
 "nbformat_minor": 5
}
